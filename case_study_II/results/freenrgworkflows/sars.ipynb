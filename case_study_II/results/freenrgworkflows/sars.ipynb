{
 "cells": [
  {
   "cell_type": "markdown",
   "id": "cb4f2143",
   "metadata": {},
   "source": [
    "    # Default Perturbation network analysis notebook\n",
    "    This notebook was automatically generated using freenrgworkflows\n",
    "    Author: Antonia Mey\n",
    "    Email: antonia.mey@ed.ac.uk"
   ]
  },
  {
   "cell_type": "code",
   "execution_count": null,
   "id": "41382f8d",
   "metadata": {},
   "outputs": [],
   "source": [
    "    %pylab inline\n",
    "    import networkanalysis.networkanalysis as n_graph\n",
    "    import networkanalysis.plotting as n_plot\n",
    "    import networkanalysis.experiments as n_ex\n",
    "    import networkanalysis.stats as n_stats\n",
    "    import networkanalysis\n",
    "    networkanalysis.__version__"
   ]
  },
  {
   "cell_type": "code",
   "execution_count": null,
   "id": "7b4f38a6",
   "metadata": {},
   "outputs": [],
   "source": [
    "    # Creating and populating the perturbation network\n",
    "    pG = n_graph.PerturbationGraph()\n",
    "    # Change the path below to the csv file containing the individual perturbations\n",
    "    pG.populate_pert_graph('sars/sarscov2-3toR.csv')\n",
    "    # Uncomment below if you have run multiple runs for some perturbations and add file path\n",
    "    #pG.add_data_to_graph('/path/to/additional/runs.csv')\n",
    "    target_compound = pG.compoundList[0] #change this to your target compound\n",
    "    pG.compute_weighted_avg_paths(target_compound)\n",
    "    pG.format_free_energies(merge_BM=True,intermed_ID='INT')\n",
    "    computed_relative_DDGs = pG.freeEnergyInKcal\n",
    "    print (\"Free energies computed from the perturbation network are: \")\n",
    "    print (\"---------------------------------------- \")\n",
    "    pG.write_free_energies(computed_relative_DDGs)"
   ]
  },
  {
   "cell_type": "markdown",
   "id": "49865e62",
   "metadata": {},
   "source": [
    "\n",
    "    ### Experimental data\n",
    "    It is useful to compare computed free energies to experimental data.\n",
    "    The cells below will read in your experimental data. Just replace the path to you IC50 data in the\n",
    "    `IC_50_file` variable "
   ]
  },
  {
   "cell_type": "code",
   "execution_count": null,
   "id": "e5068389",
   "metadata": {},
   "outputs": [],
   "source": [
    "    experiments = n_ex.ExperimentalData()\n",
    "    IC_50_file = 'sars/sarscov2_ic50_exp.csv'\n",
    "    experiments.compute_DDG_from_IC50s(IC_50_file, reference=target_compound)\n",
    "    experimental_DDGs = experiments.freeEnergiesInKcal\n",
    "    print (\"Free energies computed from IC50 data: \")\n",
    "    print (\"---------------------------------------- \")\n",
    "    pG.write_free_energies(experimental_DDGs)"
   ]
  },
  {
   "cell_type": "markdown",
   "id": "40c8a08f",
   "metadata": {},
   "source": [
    "\n",
    "    ### Typical plots\n",
    "    Below a bar plot and scatter plot template for comparing experimental and computed free energy values"
   ]
  },
  {
   "cell_type": "code",
   "execution_count": null,
   "id": "bc05529f",
   "metadata": {},
   "outputs": [],
   "source": [
    "    plotter = n_plot.FreeEnergyPlotter(experimental_DDGs, computed_relative_DDGs)\n",
    "    ax,fig = plotter.plot_bar_plot(legend=('experimental', 'computed'))"
   ]
  },
  {
   "cell_type": "code",
   "execution_count": null,
   "id": "d8ba0256",
   "metadata": {},
   "outputs": [],
   "source": [
    "    plotter.plot_scatter_plot() "
   ]
  },
  {
   "cell_type": "markdown",
   "id": "8eb84f89",
   "metadata": {},
   "source": [
    "\n",
    "    ### Error analysis on typical statistical measures: R_mean, MUE and Kendall tau_mean\n",
    "    Below are examples of how to re-sample from the data in order to obtain error bars on correlation coefficients,\n",
    "    mean unsigned errors and Kendall tau. Returned are confidence intervals of 65% and the median of the distribution.\n",
    "     However, standard deviations and mean can also\n",
    "    be returned, though less likely to give good information as these distributions are often heavily skewed and not\n",
    "    normally distributed. "
   ]
  },
  {
   "cell_type": "code",
   "execution_count": null,
   "id": "8b3560ef",
   "metadata": {},
   "outputs": [],
   "source": [
    "    stats = n_stats.freeEnergyStats()\n",
    "    stats.generate_statistics(computed_relative_DDGs,experimental_DDGs,repeats=10000)\n",
    "    r_confidence = stats.R_confidence\n",
    "    tau_confidence = stats.tau_confidence\n",
    "    mue_confidence = stats.mue_confidence\n",
    "    print (\"R confidence is: %.2f < %.2f < %.2f\" %(r_confidence[1], r_confidence[0], r_confidence[2]))\n",
    "    print (\"Mue confidence is: %.2f < %.2f < %.2f\" %(mue_confidence[1], mue_confidence[0], mue_confidence[2]))\n",
    "    print (\"tau confidence is: %.2f < %.2f < %.2f\" %(tau_confidence[1], tau_confidence[0], tau_confidence[2]))"
   ]
  }
 ],
 "metadata": {},
 "nbformat": 4,
 "nbformat_minor": 5
}
